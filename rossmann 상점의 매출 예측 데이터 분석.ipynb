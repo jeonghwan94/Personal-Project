{
 "cells": [
  {
   "cell_type": "code",
   "execution_count": 1,
   "id": "865085da",
   "metadata": {},
   "outputs": [],
   "source": [
    "import os\n",
    "import pandas as pd"
   ]
  },
  {
   "cell_type": "code",
   "execution_count": 2,
   "id": "6d0f1180",
   "metadata": {},
   "outputs": [],
   "source": [
    "os.chdir(r'C:\\Users\\1\\Desktop\\프로젝트 로스만 상점 분석\\data-20210622T012156Z-001')"
   ]
  },
  {
   "cell_type": "code",
   "execution_count": 3,
   "id": "a25665b9",
   "metadata": {},
   "outputs": [],
   "source": [
    "train = pd.read_csv(\"lspoons_train.csv\")\n",
    "test = pd.read_csv(\"lspoons_test.csv\")\n",
    "store = pd.read_csv(\"store.csv\")\n",
    "\n",
    "train = pd.get_dummies(columns=['StateHoliday'], data=train)\n",
    "test = pd.get_dummies(columns= ['StateHoliday'], data=test)"
   ]
  },
  {
   "cell_type": "code",
   "execution_count": 4,
   "id": "958a3378",
   "metadata": {},
   "outputs": [
    {
     "data": {
      "text/html": [
       "<div>\n",
       "<style scoped>\n",
       "    .dataframe tbody tr th:only-of-type {\n",
       "        vertical-align: middle;\n",
       "    }\n",
       "\n",
       "    .dataframe tbody tr th {\n",
       "        vertical-align: top;\n",
       "    }\n",
       "\n",
       "    .dataframe thead th {\n",
       "        text-align: right;\n",
       "    }\n",
       "</style>\n",
       "<table border=\"1\" class=\"dataframe\">\n",
       "  <thead>\n",
       "    <tr style=\"text-align: right;\">\n",
       "      <th></th>\n",
       "      <th>id</th>\n",
       "      <th>Store</th>\n",
       "      <th>Date</th>\n",
       "      <th>Sales</th>\n",
       "      <th>Promo</th>\n",
       "      <th>SchoolHoliday</th>\n",
       "      <th>StateHoliday_0</th>\n",
       "      <th>StateHoliday_a</th>\n",
       "      <th>StateHoliday_b</th>\n",
       "      <th>StateHoliday_c</th>\n",
       "    </tr>\n",
       "  </thead>\n",
       "  <tbody>\n",
       "    <tr>\n",
       "      <th>0</th>\n",
       "      <td>14929</td>\n",
       "      <td>85</td>\n",
       "      <td>2015-05-01</td>\n",
       "      <td>11360</td>\n",
       "      <td>1</td>\n",
       "      <td>0</td>\n",
       "      <td>0</td>\n",
       "      <td>1</td>\n",
       "      <td>0</td>\n",
       "      <td>0</td>\n",
       "    </tr>\n",
       "    <tr>\n",
       "      <th>1</th>\n",
       "      <td>14930</td>\n",
       "      <td>512</td>\n",
       "      <td>2015-05-01</td>\n",
       "      <td>10534</td>\n",
       "      <td>1</td>\n",
       "      <td>0</td>\n",
       "      <td>0</td>\n",
       "      <td>1</td>\n",
       "      <td>0</td>\n",
       "      <td>0</td>\n",
       "    </tr>\n",
       "    <tr>\n",
       "      <th>2</th>\n",
       "      <td>14931</td>\n",
       "      <td>1097</td>\n",
       "      <td>2015-05-01</td>\n",
       "      <td>17039</td>\n",
       "      <td>1</td>\n",
       "      <td>0</td>\n",
       "      <td>0</td>\n",
       "      <td>1</td>\n",
       "      <td>0</td>\n",
       "      <td>0</td>\n",
       "    </tr>\n",
       "    <tr>\n",
       "      <th>3</th>\n",
       "      <td>14932</td>\n",
       "      <td>1</td>\n",
       "      <td>2015-04-30</td>\n",
       "      <td>6228</td>\n",
       "      <td>1</td>\n",
       "      <td>0</td>\n",
       "      <td>1</td>\n",
       "      <td>0</td>\n",
       "      <td>0</td>\n",
       "      <td>0</td>\n",
       "    </tr>\n",
       "    <tr>\n",
       "      <th>4</th>\n",
       "      <td>14933</td>\n",
       "      <td>9</td>\n",
       "      <td>2015-04-30</td>\n",
       "      <td>9717</td>\n",
       "      <td>1</td>\n",
       "      <td>0</td>\n",
       "      <td>1</td>\n",
       "      <td>0</td>\n",
       "      <td>0</td>\n",
       "      <td>0</td>\n",
       "    </tr>\n",
       "  </tbody>\n",
       "</table>\n",
       "</div>"
      ],
      "text/plain": [
       "      id  Store        Date  Sales  Promo  SchoolHoliday  StateHoliday_0  \\\n",
       "0  14929     85  2015-05-01  11360      1              0               0   \n",
       "1  14930    512  2015-05-01  10534      1              0               0   \n",
       "2  14931   1097  2015-05-01  17039      1              0               0   \n",
       "3  14932      1  2015-04-30   6228      1              0               1   \n",
       "4  14933      9  2015-04-30   9717      1              0               1   \n",
       "\n",
       "   StateHoliday_a  StateHoliday_b  StateHoliday_c  \n",
       "0               1               0               0  \n",
       "1               1               0               0  \n",
       "2               1               0               0  \n",
       "3               0               0               0  \n",
       "4               0               0               0  "
      ]
     },
     "execution_count": 4,
     "metadata": {},
     "output_type": "execute_result"
    }
   ],
   "source": [
    "train.head()"
   ]
  },
  {
   "cell_type": "code",
   "execution_count": 5,
   "id": "61da8d53",
   "metadata": {},
   "outputs": [],
   "source": [
    "test['StateHoliday_b'] = 0\n",
    "test['StateHoliday_c'] = 0"
   ]
  },
  {
   "cell_type": "code",
   "execution_count": 6,
   "id": "2bceb776",
   "metadata": {},
   "outputs": [],
   "source": [
    "# Date 변수를 활용한 FE\n",
    "\n",
    "train['Date'] = pd.to_datetime( train['Date'] )\n",
    "test['Date'] = pd.to_datetime( test['Date'] )\n",
    "\n",
    "train['weekday'] = train['Date'].dt.weekday\n",
    "test['weekday'] = test['Date'].dt.weekday\n",
    "\n",
    "train['year'] = train['Date'].dt.year\n",
    "test['year'] = test['Date'].dt.year\n",
    "\n",
    "train['month'] = train['Date'].dt.month\n",
    "test['month'] = test['Date'].dt.month\n",
    "\n",
    "## * pandas에서 날짜 계산을 편리하게 하기 위하여. pd.to_datetime 함수를 통해 date 컬럼을 날짜형 변수로 바꿔줍니다.\n",
    "## dt.weekday , dt.year , df month 통하여 요일 , 년도 , 월 을 뽑아낼 수 있습니다."
   ]
  },
  {
   "cell_type": "code",
   "execution_count": 7,
   "id": "b9ef139b",
   "metadata": {},
   "outputs": [
    {
     "data": {
      "text/html": [
       "<div>\n",
       "<style scoped>\n",
       "    .dataframe tbody tr th:only-of-type {\n",
       "        vertical-align: middle;\n",
       "    }\n",
       "\n",
       "    .dataframe tbody tr th {\n",
       "        vertical-align: top;\n",
       "    }\n",
       "\n",
       "    .dataframe thead th {\n",
       "        text-align: right;\n",
       "    }\n",
       "</style>\n",
       "<table border=\"1\" class=\"dataframe\">\n",
       "  <thead>\n",
       "    <tr style=\"text-align: right;\">\n",
       "      <th></th>\n",
       "      <th>id</th>\n",
       "      <th>Store</th>\n",
       "      <th>Date</th>\n",
       "      <th>Sales</th>\n",
       "      <th>Promo</th>\n",
       "      <th>SchoolHoliday</th>\n",
       "      <th>StateHoliday_0</th>\n",
       "      <th>StateHoliday_a</th>\n",
       "      <th>StateHoliday_b</th>\n",
       "      <th>StateHoliday_c</th>\n",
       "      <th>weekday</th>\n",
       "      <th>year</th>\n",
       "      <th>month</th>\n",
       "    </tr>\n",
       "  </thead>\n",
       "  <tbody>\n",
       "    <tr>\n",
       "      <th>0</th>\n",
       "      <td>14929</td>\n",
       "      <td>85</td>\n",
       "      <td>2015-05-01</td>\n",
       "      <td>11360</td>\n",
       "      <td>1</td>\n",
       "      <td>0</td>\n",
       "      <td>0</td>\n",
       "      <td>1</td>\n",
       "      <td>0</td>\n",
       "      <td>0</td>\n",
       "      <td>4</td>\n",
       "      <td>2015</td>\n",
       "      <td>5</td>\n",
       "    </tr>\n",
       "    <tr>\n",
       "      <th>1</th>\n",
       "      <td>14930</td>\n",
       "      <td>512</td>\n",
       "      <td>2015-05-01</td>\n",
       "      <td>10534</td>\n",
       "      <td>1</td>\n",
       "      <td>0</td>\n",
       "      <td>0</td>\n",
       "      <td>1</td>\n",
       "      <td>0</td>\n",
       "      <td>0</td>\n",
       "      <td>4</td>\n",
       "      <td>2015</td>\n",
       "      <td>5</td>\n",
       "    </tr>\n",
       "    <tr>\n",
       "      <th>2</th>\n",
       "      <td>14931</td>\n",
       "      <td>1097</td>\n",
       "      <td>2015-05-01</td>\n",
       "      <td>17039</td>\n",
       "      <td>1</td>\n",
       "      <td>0</td>\n",
       "      <td>0</td>\n",
       "      <td>1</td>\n",
       "      <td>0</td>\n",
       "      <td>0</td>\n",
       "      <td>4</td>\n",
       "      <td>2015</td>\n",
       "      <td>5</td>\n",
       "    </tr>\n",
       "    <tr>\n",
       "      <th>3</th>\n",
       "      <td>14932</td>\n",
       "      <td>1</td>\n",
       "      <td>2015-04-30</td>\n",
       "      <td>6228</td>\n",
       "      <td>1</td>\n",
       "      <td>0</td>\n",
       "      <td>1</td>\n",
       "      <td>0</td>\n",
       "      <td>0</td>\n",
       "      <td>0</td>\n",
       "      <td>3</td>\n",
       "      <td>2015</td>\n",
       "      <td>4</td>\n",
       "    </tr>\n",
       "    <tr>\n",
       "      <th>4</th>\n",
       "      <td>14933</td>\n",
       "      <td>9</td>\n",
       "      <td>2015-04-30</td>\n",
       "      <td>9717</td>\n",
       "      <td>1</td>\n",
       "      <td>0</td>\n",
       "      <td>1</td>\n",
       "      <td>0</td>\n",
       "      <td>0</td>\n",
       "      <td>0</td>\n",
       "      <td>3</td>\n",
       "      <td>2015</td>\n",
       "      <td>4</td>\n",
       "    </tr>\n",
       "  </tbody>\n",
       "</table>\n",
       "</div>"
      ],
      "text/plain": [
       "      id  Store       Date  Sales  Promo  SchoolHoliday  StateHoliday_0  \\\n",
       "0  14929     85 2015-05-01  11360      1              0               0   \n",
       "1  14930    512 2015-05-01  10534      1              0               0   \n",
       "2  14931   1097 2015-05-01  17039      1              0               0   \n",
       "3  14932      1 2015-04-30   6228      1              0               1   \n",
       "4  14933      9 2015-04-30   9717      1              0               1   \n",
       "\n",
       "   StateHoliday_a  StateHoliday_b  StateHoliday_c  weekday  year  month  \n",
       "0               1               0               0        4  2015      5  \n",
       "1               1               0               0        4  2015      5  \n",
       "2               1               0               0        4  2015      5  \n",
       "3               0               0               0        3  2015      4  \n",
       "4               0               0               0        3  2015      4  "
      ]
     },
     "execution_count": 7,
     "metadata": {},
     "output_type": "execute_result"
    }
   ],
   "source": [
    "train.head()"
   ]
  },
  {
   "cell_type": "code",
   "execution_count": 8,
   "id": "83f52c87",
   "metadata": {},
   "outputs": [
    {
     "data": {
      "text/html": [
       "<div>\n",
       "<style scoped>\n",
       "    .dataframe tbody tr th:only-of-type {\n",
       "        vertical-align: middle;\n",
       "    }\n",
       "\n",
       "    .dataframe tbody tr th {\n",
       "        vertical-align: top;\n",
       "    }\n",
       "\n",
       "    .dataframe thead th {\n",
       "        text-align: right;\n",
       "    }\n",
       "</style>\n",
       "<table border=\"1\" class=\"dataframe\">\n",
       "  <thead>\n",
       "    <tr style=\"text-align: right;\">\n",
       "      <th></th>\n",
       "      <th>Promo</th>\n",
       "      <th>SchoolHoliday</th>\n",
       "      <th>StateHoliday_0</th>\n",
       "      <th>StateHoliday_a</th>\n",
       "      <th>StateHoliday_b</th>\n",
       "      <th>StateHoliday_c</th>\n",
       "      <th>weekday</th>\n",
       "      <th>year</th>\n",
       "      <th>month</th>\n",
       "    </tr>\n",
       "  </thead>\n",
       "  <tbody>\n",
       "    <tr>\n",
       "      <th>0</th>\n",
       "      <td>1</td>\n",
       "      <td>0</td>\n",
       "      <td>0</td>\n",
       "      <td>1</td>\n",
       "      <td>0</td>\n",
       "      <td>0</td>\n",
       "      <td>4</td>\n",
       "      <td>2015</td>\n",
       "      <td>5</td>\n",
       "    </tr>\n",
       "    <tr>\n",
       "      <th>1</th>\n",
       "      <td>1</td>\n",
       "      <td>0</td>\n",
       "      <td>0</td>\n",
       "      <td>1</td>\n",
       "      <td>0</td>\n",
       "      <td>0</td>\n",
       "      <td>4</td>\n",
       "      <td>2015</td>\n",
       "      <td>5</td>\n",
       "    </tr>\n",
       "    <tr>\n",
       "      <th>2</th>\n",
       "      <td>1</td>\n",
       "      <td>0</td>\n",
       "      <td>0</td>\n",
       "      <td>1</td>\n",
       "      <td>0</td>\n",
       "      <td>0</td>\n",
       "      <td>4</td>\n",
       "      <td>2015</td>\n",
       "      <td>5</td>\n",
       "    </tr>\n",
       "    <tr>\n",
       "      <th>3</th>\n",
       "      <td>1</td>\n",
       "      <td>0</td>\n",
       "      <td>1</td>\n",
       "      <td>0</td>\n",
       "      <td>0</td>\n",
       "      <td>0</td>\n",
       "      <td>3</td>\n",
       "      <td>2015</td>\n",
       "      <td>4</td>\n",
       "    </tr>\n",
       "    <tr>\n",
       "      <th>4</th>\n",
       "      <td>1</td>\n",
       "      <td>0</td>\n",
       "      <td>1</td>\n",
       "      <td>0</td>\n",
       "      <td>0</td>\n",
       "      <td>0</td>\n",
       "      <td>3</td>\n",
       "      <td>2015</td>\n",
       "      <td>4</td>\n",
       "    </tr>\n",
       "    <tr>\n",
       "      <th>...</th>\n",
       "      <td>...</td>\n",
       "      <td>...</td>\n",
       "      <td>...</td>\n",
       "      <td>...</td>\n",
       "      <td>...</td>\n",
       "      <td>...</td>\n",
       "      <td>...</td>\n",
       "      <td>...</td>\n",
       "      <td>...</td>\n",
       "    </tr>\n",
       "    <tr>\n",
       "      <th>62239</th>\n",
       "      <td>1</td>\n",
       "      <td>1</td>\n",
       "      <td>1</td>\n",
       "      <td>0</td>\n",
       "      <td>0</td>\n",
       "      <td>0</td>\n",
       "      <td>4</td>\n",
       "      <td>2014</td>\n",
       "      <td>8</td>\n",
       "    </tr>\n",
       "    <tr>\n",
       "      <th>62240</th>\n",
       "      <td>1</td>\n",
       "      <td>1</td>\n",
       "      <td>1</td>\n",
       "      <td>0</td>\n",
       "      <td>0</td>\n",
       "      <td>0</td>\n",
       "      <td>4</td>\n",
       "      <td>2014</td>\n",
       "      <td>8</td>\n",
       "    </tr>\n",
       "    <tr>\n",
       "      <th>62241</th>\n",
       "      <td>1</td>\n",
       "      <td>1</td>\n",
       "      <td>1</td>\n",
       "      <td>0</td>\n",
       "      <td>0</td>\n",
       "      <td>0</td>\n",
       "      <td>4</td>\n",
       "      <td>2014</td>\n",
       "      <td>8</td>\n",
       "    </tr>\n",
       "    <tr>\n",
       "      <th>62242</th>\n",
       "      <td>1</td>\n",
       "      <td>1</td>\n",
       "      <td>1</td>\n",
       "      <td>0</td>\n",
       "      <td>0</td>\n",
       "      <td>0</td>\n",
       "      <td>4</td>\n",
       "      <td>2014</td>\n",
       "      <td>8</td>\n",
       "    </tr>\n",
       "    <tr>\n",
       "      <th>62243</th>\n",
       "      <td>1</td>\n",
       "      <td>1</td>\n",
       "      <td>1</td>\n",
       "      <td>0</td>\n",
       "      <td>0</td>\n",
       "      <td>0</td>\n",
       "      <td>4</td>\n",
       "      <td>2014</td>\n",
       "      <td>8</td>\n",
       "    </tr>\n",
       "  </tbody>\n",
       "</table>\n",
       "<p>62244 rows × 9 columns</p>\n",
       "</div>"
      ],
      "text/plain": [
       "       Promo  SchoolHoliday  StateHoliday_0  StateHoliday_a  StateHoliday_b  \\\n",
       "0          1              0               0               1               0   \n",
       "1          1              0               0               1               0   \n",
       "2          1              0               0               1               0   \n",
       "3          1              0               1               0               0   \n",
       "4          1              0               1               0               0   \n",
       "...      ...            ...             ...             ...             ...   \n",
       "62239      1              1               1               0               0   \n",
       "62240      1              1               1               0               0   \n",
       "62241      1              1               1               0               0   \n",
       "62242      1              1               1               0               0   \n",
       "62243      1              1               1               0               0   \n",
       "\n",
       "       StateHoliday_c  weekday  year  month  \n",
       "0                   0        4  2015      5  \n",
       "1                   0        4  2015      5  \n",
       "2                   0        4  2015      5  \n",
       "3                   0        3  2015      4  \n",
       "4                   0        3  2015      4  \n",
       "...               ...      ...   ...    ...  \n",
       "62239               0        4  2014      8  \n",
       "62240               0        4  2014      8  \n",
       "62241               0        4  2014      8  \n",
       "62242               0        4  2014      8  \n",
       "62243               0        4  2014      8  \n",
       "\n",
       "[62244 rows x 9 columns]"
      ]
     },
     "execution_count": 8,
     "metadata": {},
     "output_type": "execute_result"
    }
   ],
   "source": [
    "train[['Promo','SchoolHoliday','StateHoliday_0','StateHoliday_a','StateHoliday_b','StateHoliday_c','weekday','year','month']]"
   ]
  },
  {
   "cell_type": "code",
   "execution_count": 9,
   "id": "bec42eb2",
   "metadata": {},
   "outputs": [
    {
     "name": "stdout",
     "output_type": "stream",
     "text": [
      "Requirement already satisfied: xgboost in d:\\anaconda3\\lib\\site-packages (1.4.2)\n",
      "Requirement already satisfied: scipy in d:\\anaconda3\\lib\\site-packages (from xgboost) (1.6.2)\n",
      "Requirement already satisfied: numpy in d:\\anaconda3\\lib\\site-packages (from xgboost) (1.20.1)\n"
     ]
    }
   ],
   "source": [
    "## 베이스 라인 모델링(xgboost)\n",
    "!pip install xgboost"
   ]
  },
  {
   "cell_type": "code",
   "execution_count": 10,
   "id": "b70d45fa",
   "metadata": {},
   "outputs": [],
   "source": [
    "from xgboost import XGBRegressor"
   ]
  },
  {
   "cell_type": "code",
   "execution_count": 11,
   "id": "10c9c058",
   "metadata": {},
   "outputs": [],
   "source": [
    "xgb = XGBRegressor( n_estimators= 300 , learning_rate=0.1 , random_state=2020 )\n",
    "xgb.fit(train[['Promo','SchoolHoliday','StateHoliday_0','StateHoliday_a','StateHoliday_b','StateHoliday_c','weekday','year','month']],\n",
    "        train['Sales'])\n",
    "\n",
    "test['Sales'] = xgb.predict(test[['Promo','SchoolHoliday','StateHoliday_0','StateHoliday_a','StateHoliday_b','StateHoliday_c','weekday','year','month']])\n",
    "test[['id','Sales']].to_csv(\"submission.csv\",index=False)\n",
    "\n",
    "xgb.feature_importances_\n",
    "\n",
    "input_var = ['Promo','SchoolHoliday','StateHoliday_0','StateHoliday_a','StateHoliday_b','StateHoliday_c','weekday','year','month']\n",
    "\n",
    "imp_df = pd.DataFrame({\"var\": input_var,\n",
    "                       \"imp\":xgb.feature_importances_})\n",
    "\n",
    "imp_df = imp_df.sort_values(['imp'],ascending=False)"
   ]
  },
  {
   "cell_type": "code",
   "execution_count": 12,
   "id": "d6321f6d",
   "metadata": {},
   "outputs": [
    {
     "data": {
      "text/plain": [
       "([0, 1, 2, 3, 4, 5, 6, 7, 8],\n",
       " [Text(0, 0, ''),\n",
       "  Text(0, 0, ''),\n",
       "  Text(0, 0, ''),\n",
       "  Text(0, 0, ''),\n",
       "  Text(0, 0, ''),\n",
       "  Text(0, 0, ''),\n",
       "  Text(0, 0, ''),\n",
       "  Text(0, 0, ''),\n",
       "  Text(0, 0, '')])"
      ]
     },
     "execution_count": 12,
     "metadata": {},
     "output_type": "execute_result"
    },
    {
     "data": {
      "image/png": "[encoded data removed]",
      "text/plain": [
       "<Figure size 432x288 with 1 Axes>"
      ]
     },
     "metadata": {
      "needs_background": "light"
     },
     "output_type": "display_data"
    }
   ],
   "source": [
    "import matplotlib.pyplot as plt\n",
    "plt.bar(imp_df['var'],imp_df['imp'])\n",
    "plt.xticks(rotation=90)"
   ]
  },
  {
   "cell_type": "code",
   "execution_count": 13,
   "id": "8a817a56",
   "metadata": {},
   "outputs": [],
   "source": [
    "from sklearn.model_selection import cross_val_score\n",
    "import numpy as np\n",
    "\n",
    "cross_val_score(xgb, train[input_var], train['Sales'], scoring=\"neg_mean_squared_error\", cv=3)\n",
    "score_list=[]\n",
    "selected_varnum=[]"
   ]
  },
  {
   "cell_type": "code",
   "execution_count": 14,
   "id": "17f4aaa7",
   "metadata": {},
   "outputs": [
    {
     "name": "stdout",
     "output_type": "stream",
     "text": [
      "1\n",
      "2\n",
      "3\n",
      "4\n",
      "5\n",
      "6\n",
      "7\n",
      "8\n",
      "9\n"
     ]
    }
   ],
   "source": [
    "for i in range(1,10):\n",
    "    selected_var = imp_df['var'].iloc[:i].to_list()\n",
    "    scores = cross_val_score(xgb, \n",
    "                             train[selected_var], \n",
    "                             train['Sales'], \n",
    "                             scoring=\"neg_mean_squared_error\", cv=3)\n",
    "    score_list.append(-np.mean(scores))\n",
    "    selected_varnum.append(i)\n",
    "    print(i)"
   ]
  },
  {
   "cell_type": "code",
   "execution_count": 15,
   "id": "e83f5691",
   "metadata": {},
   "outputs": [
    {
     "data": {
      "text/plain": [
       "[<matplotlib.lines.Line2D at 0x2c11fe790d0>]"
      ]
     },
     "execution_count": 15,
     "metadata": {},
     "output_type": "execute_result"
    },
    {
     "data": {
      "image/png": "[encoded data removed]",
      "text/plain": [
       "<Figure size 432x288 with 1 Axes>"
      ]
     },
     "metadata": {
      "needs_background": "light"
     },
     "output_type": "display_data"
    }
   ],
   "source": [
    "plt.plot(selected_varnum, score_list)"
   ]
  },
  {
   "cell_type": "code",
   "execution_count": 16,
   "id": "c52ed45d",
   "metadata": {},
   "outputs": [],
   "source": [
    "## input 변수를 수정해서 다시 제출 파일을 만듭니다.\n",
    "xgb.fit(train[['Promo','weekday']],\n",
    "        train['Sales'])\n",
    "test['Sales'] = xgb.predict(test[['Promo','weekday']])\n",
    "test[['id','Sales']].to_csv(\"submission1.csv\",index=False)"
   ]
  },
  {
   "cell_type": "code",
   "execution_count": 17,
   "id": "e98c01ef",
   "metadata": {},
   "outputs": [
    {
     "name": "stderr",
     "output_type": "stream",
     "text": [
      "<ipython-input-17-68bb3149adbf>:10: FutureWarning: Series.dt.weekofyear and Series.dt.week have been deprecated.  Please use Series.dt.isocalendar().week instead.\n",
      "  train['WeekOfYear'] = train['Date'].dt.weekofyear\n",
      "<ipython-input-17-68bb3149adbf>:11: FutureWarning: Series.dt.weekofyear and Series.dt.week have been deprecated.  Please use Series.dt.isocalendar().week instead.\n",
      "  test['WeekOfYear'] = test['Date'].dt.weekofyear\n"
     ]
    }
   ],
   "source": [
    "train = pd.merge(train, store, on=['Store'], how='left')\n",
    "test = pd.merge(test, store, on=['Store'], how='left')\n",
    "\n",
    "train['CompetitionOpen'] = 12*( train['year'] - train['CompetitionOpenSinceYear'] ) + \\\n",
    "                             (train['month'] - train['CompetitionOpenSinceMonth'])\n",
    "\n",
    "test['CompetitionOpen'] = 12*( test['year'] - test['CompetitionOpenSinceYear'] ) + \\\n",
    "                             (test['month'] - test['CompetitionOpenSinceMonth'])\n",
    "\n",
    "train['WeekOfYear'] = train['Date'].dt.weekofyear\n",
    "test['WeekOfYear'] = test['Date'].dt.weekofyear\n",
    "\n",
    "train['PromoOpen'] = 12* ( train['year'] - train['Promo2SinceYear'] ) + \\\n",
    "                        (train['WeekOfYear'] - train['Promo2SinceWeek']) / 4\n",
    "\n",
    "test['PromoOpen'] = 12* ( test['year'] - test['Promo2SinceYear'] ) + \\\n",
    "                        (test['WeekOfYear'] - test['Promo2SinceWeek']) / 4\n",
    "\n",
    "## 위에서 부터 순서대로 기재\n",
    "\n",
    "## 보조 데이터를 활용하였습니다.(store , merge)\n",
    "\n",
    "## dt.weekofyear 함수를 통해 몇번째 주인지를 뽑는 과정을 거치고\n",
    "\n",
    "## 프르모션이 시작된지 얼마나 되었는지를 promoopen 변수에 저장합니다."
   ]
  },
  {
   "cell_type": "code",
   "execution_count": 18,
   "id": "327e40c7",
   "metadata": {},
   "outputs": [],
   "source": [
    "## StoreType , Assortment , PromoInterval 변수를 one hot encoding 합니다.\n",
    "train = pd.get_dummies(columns=['StoreType'],data=train)\n",
    "test = pd.get_dummies(columns=['StoreType'],data=test)\n",
    "\n",
    "train = pd.get_dummies(columns=['Assortment'],data=train)\n",
    "test = pd.get_dummies(columns=['Assortment'],data=test)\n",
    "\n",
    "train = pd.get_dummies(columns=['PromoInterval'],data=train)\n",
    "test = pd.get_dummies(columns=['PromoInterval'],data=test)"
   ]
  },
  {
   "cell_type": "code",
   "execution_count": 19,
   "id": "098263e7",
   "metadata": {},
   "outputs": [],
   "source": [
    "## 2차 모델링을 위한 input 변수를 지정합니다\n",
    "input_var = ['Promo', 'SchoolHoliday',\n",
    "       'StateHoliday_0', 'StateHoliday_a', 'StateHoliday_b', 'StateHoliday_c',\n",
    "       'weekday', 'year', 'month', 'CompetitionDistance',\n",
    "       'Promo2',\n",
    "       'CompetitionOpen', 'WeekOfYear',\n",
    "       'PromoOpen', 'StoreType_a', 'StoreType_b', 'StoreType_c', 'StoreType_d',\n",
    "       'Assortment_a', 'Assortment_b', 'Assortment_c',\n",
    "       'PromoInterval_Feb,May,Aug,Nov', 'PromoInterval_Jan,Apr,Jul,Oct',\n",
    "       'PromoInterval_Mar,Jun,Sept,Dec']"
   ]
  },
  {
   "cell_type": "code",
   "execution_count": 20,
   "id": "bf1b7632",
   "metadata": {},
   "outputs": [
    {
     "data": {
      "text/plain": [
       "XGBRegressor(base_score=0.5, booster='gbtree', colsample_bylevel=1,\n",
       "             colsample_bynode=1, colsample_bytree=1, gamma=0, gpu_id=-1,\n",
       "             importance_type='gain', interaction_constraints='',\n",
       "             learning_rate=0.1, max_delta_step=0, max_depth=6,\n",
       "             min_child_weight=1, missing=nan, monotone_constraints='()',\n",
       "             n_estimators=300, n_jobs=8, num_parallel_tree=1, random_state=2020,\n",
       "             reg_alpha=0, reg_lambda=1, scale_pos_weight=1, subsample=1,\n",
       "             tree_method='exact', validate_parameters=1, verbosity=None)"
      ]
     },
     "execution_count": 20,
     "metadata": {},
     "output_type": "execute_result"
    }
   ],
   "source": [
    "## 지정한 input 변수로 xgb 모델을 학습시킵니다.\n",
    "xgb = XGBRegressor( n_estimators=300, learning_rate= 0.1, random_state=2020)\n",
    "xgb.fit(train[input_var],train['Sales'])"
   ]
  },
  {
   "cell_type": "code",
   "execution_count": 21,
   "id": "bb34b1dc",
   "metadata": {},
   "outputs": [],
   "source": [
    "# 학습된 모델에서 변수중요도를 뽑아 imp_df라는 데이터프레임으로 저장시킵니다.\n",
    "imp_df = pd.DataFrame({'var':input_var,\n",
    "                       'imp':xgb.feature_importances_})\n",
    "imp_df = imp_df.sort_values(['imp'],ascending=False)\n",
    "\n",
    "score_list=[]\n",
    "selected_varnum=[]"
   ]
  },
  {
   "cell_type": "code",
   "execution_count": 22,
   "id": "02daac20",
   "metadata": {},
   "outputs": [
    {
     "name": "stdout",
     "output_type": "stream",
     "text": [
      "1\n",
      "2\n",
      "3\n",
      "4\n",
      "5\n",
      "6\n",
      "7\n",
      "8\n",
      "9\n",
      "10\n",
      "11\n",
      "12\n",
      "13\n",
      "14\n",
      "15\n",
      "16\n",
      "17\n",
      "18\n",
      "19\n",
      "20\n",
      "21\n",
      "22\n",
      "23\n",
      "24\n"
     ]
    }
   ],
   "source": [
    "## 변수중요도가 중요한 순서대로 input 변수를 늘려가며 cross validation을 실행시킵니다.\n",
    "## cross validation 결과물을 score_list에 저장합니다.\n",
    "for i in range(1,25):\n",
    "    selected_var = imp_df['var'].iloc[:i].to_list()\n",
    "    scores = cross_val_score(xgb, \n",
    "                             train[selected_var], \n",
    "                             train['Sales'], \n",
    "                             scoring=\"neg_mean_squared_error\", cv=3)\n",
    "    score_list.append(-np.mean(scores))\n",
    "    selected_varnum.append(i)\n",
    "    print(i)"
   ]
  },
  {
   "cell_type": "code",
   "execution_count": 23,
   "id": "2e4a75de",
   "metadata": {},
   "outputs": [
    {
     "data": {
      "text/plain": [
       "[<matplotlib.lines.Line2D at 0x2c120012970>]"
      ]
     },
     "execution_count": 23,
     "metadata": {},
     "output_type": "execute_result"
    },
    {
     "data": {
      "image/png": "[encoded data removed]",
      "text/plain": [
       "<Figure size 432x288 with 1 Axes>"
      ]
     },
     "metadata": {
      "needs_background": "light"
     },
     "output_type": "display_data"
    }
   ],
   "source": [
    "plt.plot(selected_varnum, score_list) ## 선택변수에 따른 cross validation score를 시각화 합니다."
   ]
  },
  {
   "cell_type": "code",
   "execution_count": 24,
   "id": "0a8291e9",
   "metadata": {},
   "outputs": [],
   "source": [
    "input_var = imp_df['var'].iloc[:17].tolist()\n",
    "xgb.fit(train[input_var],\n",
    "        train['Sales'])\n",
    "\n",
    "test['Sales'] = xgb.predict(test[input_var])\n",
    "\n",
    "test[['id','Sales']].to_csv(\"submission2.csv\",index=False)"
   ]
  },
  {
   "cell_type": "code",
   "execution_count": 25,
   "id": "eb80fc2b",
   "metadata": {},
   "outputs": [
    {
     "name": "stdout",
     "output_type": "stream",
     "text": [
      "100\n",
      "200\n",
      "300\n",
      "400\n",
      "500\n",
      "600\n",
      "700\n",
      "800\n",
      "900\n"
     ]
    }
   ],
   "source": [
    "estim_list = [100,200,300,400,500,600,700,800,900]\n",
    "score_list = []\n",
    "\n",
    "for i in estim_list:\n",
    "    xgb = XGBRegressor( n_estimators=i, learning_rate= 0.1, random_state=2020)\n",
    "    scores = cross_val_score(xgb, train[input_var], train['Sales'], scoring=\"neg_mean_squared_error\", cv=3)\n",
    "    score_list.append(-np.mean(scores))\n",
    "    print(i)"
   ]
  },
  {
   "cell_type": "code",
   "execution_count": 26,
   "id": "f16a8162",
   "metadata": {},
   "outputs": [
    {
     "data": {
      "text/plain": [
       "(array([   0.,  100.,  200.,  300.,  400.,  500.,  600.,  700.,  800.,\n",
       "         900., 1000.]),\n",
       " [Text(0, 0, ''),\n",
       "  Text(0, 0, ''),\n",
       "  Text(0, 0, ''),\n",
       "  Text(0, 0, ''),\n",
       "  Text(0, 0, ''),\n",
       "  Text(0, 0, ''),\n",
       "  Text(0, 0, ''),\n",
       "  Text(0, 0, ''),\n",
       "  Text(0, 0, ''),\n",
       "  Text(0, 0, ''),\n",
       "  Text(0, 0, '')])"
      ]
     },
     "execution_count": 26,
     "metadata": {},
     "output_type": "execute_result"
    },
    {
     "data": {
      "image/png": "[encoded data removed]",
      "text/plain": [
       "<Figure size 432x288 with 1 Axes>"
      ]
     },
     "metadata": {
      "needs_background": "light"
     },
     "output_type": "display_data"
    }
   ],
   "source": [
    "plt.plot(estim_list,score_list)\n",
    "plt.xticks(rotation=90)"
   ]
  },
  {
   "cell_type": "code",
   "execution_count": 27,
   "id": "f9a7b3cc",
   "metadata": {},
   "outputs": [],
   "source": [
    "xgb = XGBRegressor( n_estimators=600, learning_rate= 0.1, random_state=2020)"
   ]
  },
  {
   "cell_type": "code",
   "execution_count": 28,
   "id": "708a34a4",
   "metadata": {},
   "outputs": [],
   "source": [
    "xgb.fit(train[input_var],\n",
    "        train['Sales'])\n",
    "\n",
    "test['Sales'] = xgb.predict(test[input_var])\n",
    "\n",
    "test[['id','Sales']].to_csv(\"submission3.csv\",index=False)"
   ]
  }
 ],
 "metadata": {
  "kernelspec": {
   "display_name": "Python 3",
   "language": "python",
   "name": "python3"
  },
  "language_info": {
   "codemirror_mode": {
    "name": "ipython",
    "version": 3
   },
   "file_extension": ".py",
   "mimetype": "text/x-python",
   "name": "python",
   "nbconvert_exporter": "python",
   "pygments_lexer": "ipython3",
   "version": "3.8.8"
  }
 },
 "nbformat": 4,
 "nbformat_minor": 5
}
